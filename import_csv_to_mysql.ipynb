{
 "cells": [
  {
   "cell_type": "code",
   "execution_count": null,
   "metadata": {
    "scrolled": true
   },
   "outputs": [],
   "source": [
    "import pandas as pd\n",
    "import mysql.connector\n",
    "import glob, os\n",
    "import time\n",
    "import shutil\n",
    "\n",
    "mydb = mysql.connector.connect(\n",
    "  host=\"localhost\",\n",
    "  user=\"root\",\n",
    "  passwd=\"\",\n",
    "  database=\"datacsv\"\n",
    ")\n",
    "mycursor = mydb.cursor()\n",
    "mycursor.execute(\"CREATE TABLE tv (EVT_DATE VARCHAR(255), IP_ADDRESS VARCHAR(255), ACTION_STATUS VARCHAR(255), HEXADECIMAL_MAC_ADDRESS VARCHAR(255), SERVICE VARCHAR(255), CHANNEL VARCHAR(255), MINS_VIEW_CHANNEL VARCHAR(255), MINS_BOX_LAST_ACTION VARCHAR(255), PROGRAM_NAME VARCHAR(255), DELIVERY_FILE_NAME VARCHAR(255), TVBOXID VARCHAR(255), MB VARCHAR(255), Gender VARCHAR(255), Area VARCHAR(255), Age VARCHAR(255))\")"
   ]
  },
  {
   "cell_type": "code",
   "execution_count": null,
   "metadata": {},
   "outputs": [],
   "source": [
    "while True:\n",
    "    csvfiles = []\n",
    "    os.chdir(\"/data\")\n",
    "    for file in glob.glob(\"*.csv\"):\n",
    "        csvfiles.append(file)\n",
    "    if len(csvfiles) != 0:\n",
    "        for x in csvfiles:\n",
    "            mycursor.execute(\"LOAD DATA INFILE'/data/\" + x + \"'\" + \"INTO TABLE tv FIELDS TERMINATED BY ',' IGNORE 1 LINES;\")\n",
    "            mydb.commit()\n",
    "            shutil.move('/data/' + x, '/data/backup/' + x)   \n",
    "    time.sleep(30)"
   ]
  },
  {
   "cell_type": "code",
   "execution_count": null,
   "metadata": {},
   "outputs": [],
   "source": []
  }
 ],
 "metadata": {
  "kernelspec": {
   "display_name": "Python 3",
   "language": "python",
   "name": "python3"
  },
  "language_info": {
   "codemirror_mode": {
    "name": "ipython",
    "version": 3
   },
   "file_extension": ".py",
   "mimetype": "text/x-python",
   "name": "python",
   "nbconvert_exporter": "python",
   "pygments_lexer": "ipython3",
   "version": "3.6.8"
  }
 },
 "nbformat": 4,
 "nbformat_minor": 2
}
